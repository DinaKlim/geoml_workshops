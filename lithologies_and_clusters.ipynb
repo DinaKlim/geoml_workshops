{
 "cells": [
  {
   "cell_type": "code",
   "execution_count": 1,
   "id": "84c9695d",
   "metadata": {},
   "outputs": [],
   "source": [
    "import pandas as pd\n",
    "import numpy as np\n",
    "# from dh2loop import dh2l\n",
    "import plotly.express as px\n",
    "import matplotlib.pyplot as plt\n",
    "import seaborn as sns\n",
    "\n",
    "import matplotlib as mpl\n",
    "import matplotlib.colors as colors\n",
    "from mpl_toolkits.axes_grid1 import make_axes_locatable\n",
    "import seaborn as sns\n",
    "\n",
    "from pandas import set_option\n",
    "set_option(\"display.max_rows\", 10)\n",
    "pd.options.mode.chained_assignment = None"
   ]
  },
  {
   "cell_type": "code",
   "execution_count": null,
   "id": "e295c8fd",
   "metadata": {},
   "outputs": [],
   "source": [
    "# Hi John and Eduardo, thank you so much for your prompt answer and for your help! "
   ]
  },
  {
   "cell_type": "code",
   "execution_count": null,
   "id": "c49c04ff",
   "metadata": {},
   "outputs": [],
   "source": [
    "# Source code: https://github.com/GeoML-SIG/geoml_workshops\n",
    "# and https://towardsdatascience.com/displaying-lithology-data-using-python-and-matplotlib-58b4d251ee7a"
   ]
  },
  {
   "cell_type": "code",
   "execution_count": 103,
   "id": "14d353dc",
   "metadata": {},
   "outputs": [],
   "source": [
    "# import lab data for selected holes\n",
    "training_data = pd.read_csv('lithologies_and_everything.csv')"
   ]
  },
  {
   "cell_type": "code",
   "execution_count": 104,
   "id": "11e1dc48",
   "metadata": {},
   "outputs": [
    {
     "data": {
      "text/html": [
       "<div>\n",
       "<style scoped>\n",
       "    .dataframe tbody tr th:only-of-type {\n",
       "        vertical-align: middle;\n",
       "    }\n",
       "\n",
       "    .dataframe tbody tr th {\n",
       "        vertical-align: top;\n",
       "    }\n",
       "\n",
       "    .dataframe thead th {\n",
       "        text-align: right;\n",
       "    }\n",
       "</style>\n",
       "<table border=\"1\" class=\"dataframe\">\n",
       "  <thead>\n",
       "    <tr style=\"text-align: right;\">\n",
       "      <th></th>\n",
       "      <th>0</th>\n",
       "      <th>1</th>\n",
       "      <th>2</th>\n",
       "      <th>3</th>\n",
       "      <th>4</th>\n",
       "    </tr>\n",
       "  </thead>\n",
       "  <tbody>\n",
       "    <tr>\n",
       "      <th>Unnamed: 0</th>\n",
       "      <td>0</td>\n",
       "      <td>1</td>\n",
       "      <td>2</td>\n",
       "      <td>3</td>\n",
       "      <td>4</td>\n",
       "    </tr>\n",
       "    <tr>\n",
       "      <th>Sample</th>\n",
       "      <td>1</td>\n",
       "      <td>2</td>\n",
       "      <td>3</td>\n",
       "      <td>4</td>\n",
       "      <td>5</td>\n",
       "    </tr>\n",
       "    <tr>\n",
       "      <th>East</th>\n",
       "      <td>12653.60489</td>\n",
       "      <td>12654.25374</td>\n",
       "      <td>12654.90258</td>\n",
       "      <td>12655.53561</td>\n",
       "      <td>12656.18445</td>\n",
       "    </tr>\n",
       "    <tr>\n",
       "      <th>North</th>\n",
       "      <td>5949.422692</td>\n",
       "      <td>5949.308283</td>\n",
       "      <td>5949.193873</td>\n",
       "      <td>5949.082255</td>\n",
       "      <td>5948.967845</td>\n",
       "    </tr>\n",
       "    <tr>\n",
       "      <th>Elevation</th>\n",
       "      <td>1872.164223</td>\n",
       "      <td>1871.379028</td>\n",
       "      <td>1870.593832</td>\n",
       "      <td>1869.827788</td>\n",
       "      <td>1869.042592</td>\n",
       "    </tr>\n",
       "    <tr>\n",
       "      <th>...</th>\n",
       "      <td>...</td>\n",
       "      <td>...</td>\n",
       "      <td>...</td>\n",
       "      <td>...</td>\n",
       "      <td>...</td>\n",
       "    </tr>\n",
       "    <tr>\n",
       "      <th>Zr_ppm</th>\n",
       "      <td>0.8</td>\n",
       "      <td>0.8</td>\n",
       "      <td>1.0</td>\n",
       "      <td>1.2</td>\n",
       "      <td>1.5</td>\n",
       "    </tr>\n",
       "    <tr>\n",
       "      <th>SiO2</th>\n",
       "      <td>53.27</td>\n",
       "      <td>50.92</td>\n",
       "      <td>48.64</td>\n",
       "      <td>51.53</td>\n",
       "      <td>56.15</td>\n",
       "    </tr>\n",
       "    <tr>\n",
       "      <th>TiO2</th>\n",
       "      <td>0.964392</td>\n",
       "      <td>0.887641</td>\n",
       "      <td>0.879299</td>\n",
       "      <td>0.779189</td>\n",
       "      <td>0.765841</td>\n",
       "    </tr>\n",
       "    <tr>\n",
       "      <th>cluster</th>\n",
       "      <td>2</td>\n",
       "      <td>2</td>\n",
       "      <td>2</td>\n",
       "      <td>2</td>\n",
       "      <td>2</td>\n",
       "    </tr>\n",
       "    <tr>\n",
       "      <th>Rock</th>\n",
       "      <td>mafic2</td>\n",
       "      <td>mafic2</td>\n",
       "      <td>mafic2</td>\n",
       "      <td>mafic2</td>\n",
       "      <td>mafic2</td>\n",
       "    </tr>\n",
       "  </tbody>\n",
       "</table>\n",
       "<p>59 rows × 5 columns</p>\n",
       "</div>"
      ],
      "text/plain": [
       "                      0            1            2            3            4\n",
       "Unnamed: 0            0            1            2            3            4\n",
       "Sample                1            2            3            4            5\n",
       "East        12653.60489  12654.25374  12654.90258  12655.53561  12656.18445\n",
       "North       5949.422692  5949.308283  5949.193873  5949.082255  5948.967845\n",
       "Elevation   1872.164223  1871.379028  1870.593832  1869.827788  1869.042592\n",
       "...                 ...          ...          ...          ...          ...\n",
       "Zr_ppm              0.8          0.8          1.0          1.2          1.5\n",
       "SiO2              53.27        50.92        48.64        51.53        56.15\n",
       "TiO2           0.964392     0.887641     0.879299     0.779189     0.765841\n",
       "cluster               2            2            2            2            2\n",
       "Rock             mafic2       mafic2       mafic2       mafic2       mafic2\n",
       "\n",
       "[59 rows x 5 columns]"
      ]
     },
     "execution_count": 104,
     "metadata": {},
     "output_type": "execute_result"
    }
   ],
   "source": [
    "training_data.head().T"
   ]
  },
  {
   "cell_type": "code",
   "execution_count": 106,
   "id": "fcd86c3f",
   "metadata": {},
   "outputs": [],
   "source": [
    "# calculate Mg/Fe ratio\n",
    "training_data['Mg_Fe'] = training_data['Mg_pct'] / training_data['Fe_pct']"
   ]
  },
  {
   "cell_type": "code",
   "execution_count": 107,
   "id": "243ac1c7",
   "metadata": {},
   "outputs": [
    {
     "data": {
      "text/plain": [
       "array(['mafic2', 'andesite/dacite1', 'mafic1', 'diorite1', 'dacite1/2',\n",
       "       'diorite2', 'dacite3', 'dacite1', 'dacite2', 'andesite/dacite3'],\n",
       "      dtype=object)"
      ]
     },
     "execution_count": 107,
     "metadata": {},
     "output_type": "execute_result"
    }
   ],
   "source": [
    "# plot\n",
    "# check the number of legend entries, decide on legend colors\n",
    "training_data['Rock'].unique()"
   ]
  },
  {
   "cell_type": "code",
   "execution_count": 112,
   "id": "b4a53eed",
   "metadata": {},
   "outputs": [],
   "source": [
    "training_data['Clusters'] = training_data['cluster'] + 1"
   ]
  },
  {
   "cell_type": "code",
   "execution_count": 176,
   "id": "a84b5bfe",
   "metadata": {},
   "outputs": [],
   "source": [
    "def makeplot(well_df, top_depth, bottom_depth):\n",
    "    fig, ax = plt.subplots(figsize=(12,9))\n",
    "\n",
    "    #Set up the plot axes\n",
    "    ax1 = plt.subplot2grid((1,5), (0,0), rowspan=1, colspan = 1)\n",
    "    ax2 = plt.subplot2grid((1,5), (0,1), rowspan=1, colspan = 1, sharey = ax1)\n",
    "    \n",
    " \n",
    "\n",
    "    # As our curve scales will be detached from the top of the track,\n",
    "    # this code adds the top border back in without dealing with splines\n",
    "    ax10 = ax1.twiny()\n",
    "    ax10.xaxis.set_visible(False)\n",
    "    ax11 = ax2.twiny()\n",
    "    ax11.xaxis.set_visible(False)\n",
    "\n",
    "    # Mg/Fe track\n",
    "    ax1.plot(well_df[\"Mg_Fe\"], well_df.index, color = \"black\", linewidth = 0.5)\n",
    "    ax1.set_xlabel(\"Mg/Fe\")\n",
    "    ax1.xaxis.label.set_color(\"black\")\n",
    "    ax1.set_xlim(0, max(well_df[\"Mg_Fe\"]))\n",
    "    ax1.set_ylabel(\"Depth (m)\")\n",
    "    ax1.tick_params(axis='x', colors=\"black\")\n",
    "\n",
    "    ax1.title.set_color('black')\n",
    "\n",
    "    \n",
    "    left_col_value = 0\n",
    "    right_col_value = max(well_df[\"Mg_Fe\"])\n",
    "    span = abs(left_col_value - right_col_value)\n",
    "\n",
    "\n",
    "    # Sr\n",
    "    ax2.plot(well_df['Sr_ppm'], well_df.index, '-', color='green')\n",
    "    ax2.set_xlabel(\"Sr, ppm\")\n",
    "    ax2.set_xlim(min(well_df['Sr_ppm']), max(well_df['Sr_ppm']))\n",
    "    ax2.xaxis.label.set_color(\"green\")\n",
    "    ax2.tick_params(axis='x', colors=\"green\")\n",
    "    ax2.spines[\"top\"].set_edgecolor(\"green\")\n",
    "\n",
    "\n",
    "\n",
    "\n",
    "\n",
    "    # Cluster Track\n",
    "    if any(\"Clusters\" in s for s in well_df.columns.tolist()):\n",
    "        log = [l for l in well_df.columns.tolist() if \"Cluster\" in l][0]\n",
    "        str(log)\n",
    "        ax4 = plt.subplot2grid((1,5), (0,2), rowspan=1, colspan = 1, sharey = ax1)\n",
    "        \n",
    "        ax4.plot(well_df.index, well_df[log],color = \"black\", linewidth = 0.5)\n",
    "        ax4.set_xlabel(\"Cluster\")\n",
    "        ax4.xaxis.label.set_color(\"black\")\n",
    "        ax4.set_xlim(0, 1)\n",
    "        ax4.tick_params(axis='x', colors=\"black\")\n",
    "        ax4.spines[\"top\"].set_edgecolor(\"black\")\n",
    "        ax4.title.set_color('black')\n",
    "\n",
    "        \n",
    "        #loop through each value in the color_index\n",
    "        for k,v in cluster_color_dict.items():\n",
    "            color = v #obtain colour for color index value\n",
    "            \n",
    "            ax4.fill_betweenx(well_df.index, 100, where = well_df[log] == k,  color = color)\n",
    "\n",
    "              \n",
    "        ax4.set_xticks([0, 1])\n",
    "        ax4.set_ylim(bottom_depth, top_depth)\n",
    "        ax4.grid(which='major', color='lightgrey', linestyle='-')\n",
    "\n",
    "        plt.setp(ax4.get_yticklabels(), visible = False)\n",
    "\n",
    "\n",
    "    # Misc Formatting\n",
    "    for ax in [ax1, ax2]:\n",
    "        ax.set_ylim(bottom_depth, top_depth)\n",
    "        ax.grid(which='major', color='lightgrey', linestyle='-')\n",
    "        \n",
    "        \n",
    "    for ax in [ax2]:\n",
    "        plt.setp(ax.get_yticklabels(), visible = False)\n",
    "        \n",
    "    plt.tight_layout()\n",
    "    fig.subplots_adjust(wspace = 0.25)\n",
    "    fig.suptitle('DH: %s'%well_df.iloc[0]['holeid'], fontsize=14, y=1.05)\n",
    "    plt.savefig('DH' + well_df.iloc[0]['holeid'] + '_test.jpg', dpi=300)"
   ]
  },
  {
   "cell_type": "code",
   "execution_count": 177,
   "id": "3a8e7629",
   "metadata": {},
   "outputs": [
    {
     "data": {
      "text/plain": [
       "RangeIndex(start=0, stop=3830, step=1)"
      ]
     },
     "execution_count": 177,
     "metadata": {},
     "output_type": "execute_result"
    }
   ],
   "source": [
    "# get the list of clusters and make a dictionary with colors\n",
    "training_data.index\n"
   ]
  },
  {
   "cell_type": "code",
   "execution_count": 178,
   "id": "a0213783",
   "metadata": {},
   "outputs": [
    {
     "data": {
      "text/plain": [
       "array([ 3,  4,  6,  5,  2,  7,  9,  1,  8, 10], dtype=int64)"
      ]
     },
     "execution_count": 178,
     "metadata": {},
     "output_type": "execute_result"
    }
   ],
   "source": [
    "training_data['Clusters'].unique()"
   ]
  },
  {
   "cell_type": "code",
   "execution_count": 179,
   "id": "f4e933a9",
   "metadata": {},
   "outputs": [
    {
     "data": {
      "text/html": [
       "<div>\n",
       "<style scoped>\n",
       "    .dataframe tbody tr th:only-of-type {\n",
       "        vertical-align: middle;\n",
       "    }\n",
       "\n",
       "    .dataframe tbody tr th {\n",
       "        vertical-align: top;\n",
       "    }\n",
       "\n",
       "    .dataframe thead th {\n",
       "        text-align: right;\n",
       "    }\n",
       "</style>\n",
       "<table border=\"1\" class=\"dataframe\">\n",
       "  <thead>\n",
       "    <tr style=\"text-align: right;\">\n",
       "      <th></th>\n",
       "      <th>cluster_num</th>\n",
       "      <th>color</th>\n",
       "    </tr>\n",
       "    <tr>\n",
       "      <th>CLUSTER_KEY</th>\n",
       "      <th></th>\n",
       "      <th></th>\n",
       "    </tr>\n",
       "  </thead>\n",
       "  <tbody>\n",
       "    <tr>\n",
       "      <th>101</th>\n",
       "      <td>1</td>\n",
       "      <td>#8dd3c7</td>\n",
       "    </tr>\n",
       "    <tr>\n",
       "      <th>102</th>\n",
       "      <td>2</td>\n",
       "      <td>#ffffb3</td>\n",
       "    </tr>\n",
       "    <tr>\n",
       "      <th>103</th>\n",
       "      <td>3</td>\n",
       "      <td>#bebada</td>\n",
       "    </tr>\n",
       "    <tr>\n",
       "      <th>104</th>\n",
       "      <td>4</td>\n",
       "      <td>#fb8072</td>\n",
       "    </tr>\n",
       "    <tr>\n",
       "      <th>105</th>\n",
       "      <td>5</td>\n",
       "      <td>#80b1d3</td>\n",
       "    </tr>\n",
       "    <tr>\n",
       "      <th>106</th>\n",
       "      <td>6</td>\n",
       "      <td>#fdb462</td>\n",
       "    </tr>\n",
       "    <tr>\n",
       "      <th>107</th>\n",
       "      <td>7</td>\n",
       "      <td>#b3de69</td>\n",
       "    </tr>\n",
       "    <tr>\n",
       "      <th>108</th>\n",
       "      <td>8</td>\n",
       "      <td>#fccde5</td>\n",
       "    </tr>\n",
       "    <tr>\n",
       "      <th>109</th>\n",
       "      <td>9</td>\n",
       "      <td>#d9d9d9</td>\n",
       "    </tr>\n",
       "    <tr>\n",
       "      <th>110</th>\n",
       "      <td>10</td>\n",
       "      <td>#bc80bd</td>\n",
       "    </tr>\n",
       "  </tbody>\n",
       "</table>\n",
       "</div>"
      ],
      "text/plain": [
       "             cluster_num    color\n",
       "CLUSTER_KEY                      \n",
       "101                    1  #8dd3c7\n",
       "102                    2  #ffffb3\n",
       "103                    3  #bebada\n",
       "104                    4  #fb8072\n",
       "105                    5  #80b1d3\n",
       "106                    6  #fdb462\n",
       "107                    7  #b3de69\n",
       "108                    8  #fccde5\n",
       "109                    9  #d9d9d9\n",
       "110                   10  #bc80bd"
      ]
     },
     "execution_count": 179,
     "metadata": {},
     "output_type": "execute_result"
    }
   ],
   "source": [
    "# Legend for clusters: dictionary with a key\n",
    "{\n",
    "    1:'#8dd3c7',\n",
    "    2:'#ffffb3',\n",
    "    3:'#bebada',\n",
    "    4:'#fb8072',\n",
    "    5:'#80b1d3',\n",
    "    6:'#fdb462',\n",
    "    7:'#b3de69',\n",
    "    8:'#fccde5',\n",
    "    9:'#d9d9d9',\n",
    "    10: '#bc80bd'\n",
    "     }\n",
    "\n",
    "cluster_numbers = {'101': {'cluster_num':1, 'color':'#8dd3c7'},\n",
    "                   '102': {'cluster_num':2, 'color':'#ffffb3'},\n",
    "                   '103': {'cluster_num':3, 'color':'#bebada'},\n",
    "                   '104': {'cluster_num':4, 'color':'#fb8072'},\n",
    "                   '105': {'cluster_num':5, 'color':'#80b1d3'},\n",
    "                   '106': {'cluster_num':6, 'color':'#fdb462'},\n",
    "                   '107': {'cluster_num':7, 'color':'#b3de69'},\n",
    "                   '108': {'cluster_num':8, 'color':'#fccde5'},\n",
    "                   '109': {'cluster_num':9, 'color':'#d9d9d9'},\n",
    "                   '110': {'cluster_num':10, 'color':'#bc80bd'}\n",
    "                   \n",
    "                  }\n",
    "\n",
    "df_cluster = pd.DataFrame.from_dict(cluster_numbers, orient='index')\n",
    "df_cluster.index.name = 'CLUSTER_KEY'\n",
    "df_cluster"
   ]
  },
  {
   "cell_type": "code",
   "execution_count": 180,
   "id": "150d448b",
   "metadata": {},
   "outputs": [
    {
     "data": {
      "image/png": "[encoded data removed]",
      "text/plain": [
       "<Figure size 108x576 with 10 Axes>"
      ]
     },
     "metadata": {},
     "output_type": "display_data"
    }
   ],
   "source": [
    "# make the legend\n",
    "y = [0, 1]\n",
    "x = [1, 1]\n",
    "\n",
    "fig, axes = plt.subplots(ncols=1,nrows=10, sharex=True, sharey=True,\n",
    "                         figsize=(1.5,8), subplot_kw={'xticks': [], 'yticks': []})\n",
    "\n",
    "for ax, key in zip(axes.flat, cluster_numbers.keys()):\n",
    "    ax.plot(x, y)\n",
    "    ax.fill_betweenx(y, 0, 1, facecolor=cluster_numbers[key]['color'])# , hatch=lithology_numbers[key]['hatch'])\n",
    "    ax.set_xlim(0, 0.1)\n",
    "    ax.set_ylim(0, 1)\n",
    "    ax.set_title(str(cluster_numbers[key]['cluster_num']))\n",
    "fig.suptitle('Cluster legend')\n",
    "plt.tight_layout()\n",
    "plt.savefig('legend_clusters.jpg', dpi = 300)\n",
    "plt.show()"
   ]
  },
  {
   "cell_type": "code",
   "execution_count": 181,
   "id": "7f0b7a52",
   "metadata": {},
   "outputs": [
    {
     "data": {
      "text/plain": [
       "array(['DDH001', 'DDH002', 'DDH003', 'DDH004', 'DDH005', 'DDH006',\n",
       "       'DDH007', 'DDH008', 'DDH009', 'DDH010', 'DDH011', 'DDH012',\n",
       "       'DDH013', 'DDH014'], dtype=object)"
      ]
     },
     "execution_count": 181,
     "metadata": {},
     "output_type": "execute_result"
    }
   ],
   "source": [
    "training_data['holeid'].unique()"
   ]
  },
  {
   "cell_type": "code",
   "execution_count": 182,
   "id": "00368f06",
   "metadata": {},
   "outputs": [],
   "source": [
    "# select one drill hole\n",
    "df_tc_cluster = training_data[training_data['holeid'] == 'DDH001']"
   ]
  },
  {
   "cell_type": "code",
   "execution_count": 183,
   "id": "33571e0f",
   "metadata": {},
   "outputs": [
    {
     "data": {
      "image/png": "[encoded data removed]",
      "text/plain": [
       "<Figure size 864x648 with 5 Axes>"
      ]
     },
     "metadata": {
      "needs_background": "light"
     },
     "output_type": "display_data"
    }
   ],
   "source": [
    "# when comparing the downhole plot to the clusters in the csv file, I see that the problem is probably in the intervals I have \n",
    "# (not integers but smaller ones with depth_from and depth_to like 152.58?)\n",
    "# maybe I should loop through the rows and try to draw rectangles and fill them with a color from the dictionary?\n",
    "# for this drillhole, the interval from 160.94 m to 173.93 m should be cluster 4(labeled 5 to avoid label \"0\"), \n",
    "# but when I compare the legend to the plot, I see that the clusters are 1 and 2, with some empty space in between\n",
    "\n",
    "\n",
    "makeplot(df_tc_cluster,160,200)\n"
   ]
  },
  {
   "cell_type": "code",
   "execution_count": null,
   "id": "d4ab3b3e",
   "metadata": {},
   "outputs": [],
   "source": []
  },
  {
   "cell_type": "code",
   "execution_count": null,
   "id": "5eb86bc6",
   "metadata": {},
   "outputs": [],
   "source": [
    "\n"
   ]
  },
  {
   "cell_type": "code",
   "execution_count": null,
   "id": "bd1adb3a",
   "metadata": {},
   "outputs": [],
   "source": []
  }
 ],
 "metadata": {
  "kernelspec": {
   "display_name": "Python 3",
   "language": "python",
   "name": "python3"
  },
  "language_info": {
   "codemirror_mode": {
    "name": "ipython",
    "version": 3
   },
   "file_extension": ".py",
   "mimetype": "text/x-python",
   "name": "python",
   "nbconvert_exporter": "python",
   "pygments_lexer": "ipython3",
   "version": "3.10.4"
  }
 },
 "nbformat": 4,
 "nbformat_minor": 5
}
